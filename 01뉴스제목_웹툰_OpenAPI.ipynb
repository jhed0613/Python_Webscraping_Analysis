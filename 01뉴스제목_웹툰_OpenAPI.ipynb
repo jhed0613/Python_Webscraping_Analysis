{
 "cells": [
  {
   "cell_type": "markdown",
   "id": "eb0bfa44",
   "metadata": {},
   "source": [
    "## 1. 뉴스제목 가져오기\n",
    "* user-agent 요청헤더를 반드시 설정해야 한다."
   ]
  },
  {
   "cell_type": "code",
   "execution_count": 2,
   "id": "f0d27781",
   "metadata": {},
   "outputs": [
    {
     "name": "stdout",
     "output_type": "stream",
     "text": [
      "Name: requests\n",
      "Version: 2.32.2\n",
      "Summary: Python HTTP for Humans.\n",
      "Home-page: https://requests.readthedocs.io\n",
      "Author: Kenneth Reitz\n",
      "Author-email: me@kennethreitz.org\n",
      "License: Apache-2.0\n",
      "Location: C:\\Users\\r2com\\anaconda3\\Lib\\site-packages\n",
      "Requires: certifi, charset-normalizer, idna, urllib3\n",
      "Required-by: aext-assistant-server, anaconda-catalogs, anaconda-client, anaconda-cloud-auth, anaconda-project, conda, conda-build, conda-repo-cli, conda_package_streaming, cookiecutter, datashader, intake, jupyterlab_server, panel, requests-file, requests-toolbelt, Sphinx, streamlit, tldextract\n"
     ]
    }
   ],
   "source": [
    "!pip show requests"
   ]
  },
  {
   "cell_type": "code",
   "execution_count": 3,
   "id": "f7798ea8",
   "metadata": {},
   "outputs": [
    {
     "name": "stdout",
     "output_type": "stream",
     "text": [
      "Name: beautifulsoup4\n",
      "Version: 4.12.3\n",
      "Summary: Screen-scraping library\n",
      "Home-page: \n",
      "Author: \n",
      "Author-email: Leonard Richardson <leonardr@segfault.org>\n",
      "License: MIT License\n",
      "Location: C:\\Users\\r2com\\anaconda3\\Lib\\site-packages\n",
      "Requires: soupsieve\n",
      "Required-by: conda-build, nbconvert\n"
     ]
    }
   ],
   "source": [
    "!pip show beautifulsoup4"
   ]
  },
  {
   "cell_type": "code",
   "execution_count": 4,
   "id": "bf80a429",
   "metadata": {},
   "outputs": [],
   "source": [
    "import requests\n",
    "import bs4\n",
    "from bs4 import BeautifulSoup"
   ]
  },
  {
   "cell_type": "code",
   "execution_count": 5,
   "id": "9788d6ac",
   "metadata": {},
   "outputs": [
    {
     "name": "stdout",
     "output_type": "stream",
     "text": [
      "request ver 2.32.2\n",
      "beautifulsoup 4.12.3\n"
     ]
    }
   ],
   "source": [
    "print(f'request ver {requests.__version__}' )\n",
    "print('beautifulsoup {}'.format(bs4.__version__))"
   ]
  },
  {
   "cell_type": "markdown",
   "id": "ccb91def-cde3-4aeb-b0e5-2e7233500333",
   "metadata": {},
   "source": [
    "### 1. 뉴스 제목 추출하기"
   ]
  },
  {
   "cell_type": "code",
   "execution_count": 7,
   "id": "94c12fd6",
   "metadata": {},
   "outputs": [
    {
     "name": "stdout",
     "output_type": "stream",
     "text": [
      "https://news.naver.com/section/105\n",
      "<class 'requests.models.Response'>\n",
      "200\n",
      "True\n",
      "news 제목 = \"파리올림픽 효과 톡톡\"...연이은 승전보에 웨이브 트래픽 폭증\n",
      "news 링크 = https://n.news.naver.com/mnews/article/092/0002341022\n",
      "news 제목 = SKT, 2Q 영업익 5375억원…전년比 16%↑\n",
      "news 링크 = https://n.news.naver.com/mnews/article/138/0002179283\n",
      "news 제목 = 7777·1234 번호 대체 어떻게 받나 했더니…\"지금이 기회\"\n",
      "news 링크 = https://n.news.naver.com/mnews/article/011/0004376495\n",
      "news 제목 = SK쉴더스, 2024 클라우드 보안 가이드북 발간\n",
      "news 링크 = https://n.news.naver.com/mnews/article/277/0005455242\n",
      "news 제목 = NHN, 2분기 영업익 36.3% 증가한 285억원...결제·클라우드 고르게 성장\n",
      "news 링크 = https://n.news.naver.com/mnews/article/009/0005346062\n",
      "news 제목 = '한국인 최초 세계은행 부총재' 김상부 \"韓 정부·기업과 협력 중요\"\n",
      "news 링크 = https://n.news.naver.com/mnews/article/014/0005223880\n",
      "news 제목 = 삼성 올림픽 체험관 찾은 신유빈·안세영…`갤Z플립6` 들고 `찰칵`\n",
      "news 링크 = https://n.news.naver.com/mnews/article/029/0002892995\n",
      "news 제목 = 스타벅스, 카카오톡과 손잡고 ‘톡학생증’ 활용 혜택 프로그램 개발\n",
      "news 링크 = https://n.news.naver.com/mnews/article/009/0005345930\n",
      "news 제목 = 셀트리온 `프롤리아` 시밀러 CT-P41 \"3상서 유효성·안전성 확인\"\n",
      "news 링크 = https://n.news.naver.com/mnews/article/029/0002893131\n",
      "news 제목 = 정부, 방송 4법 재의요구안 의결...대통령 재가시 다시 국회로\n",
      "news 링크 = https://n.news.naver.com/mnews/article/092/0002341072\n",
      "news 제목 = “상급종합병원, 중증환자 60%까지…전문인력 중심으로 전환”\n",
      "news 링크 = https://n.news.naver.com/mnews/article/366/0001010146\n",
      "news 제목 = 넷마블 신작 ‘7대죄 키우기’, 하반기 실적 견인 기대감\n",
      "news 링크 = https://n.news.naver.com/mnews/article/009/0005346067\n",
      "news 제목 = SK텔레콤, 성장 정체 속 실적 방어…'AI 수익화' 더 힘준다\n",
      "news 링크 = https://n.news.naver.com/mnews/article/629/0000310904\n",
      "news 제목 = “폭발위험 차단 전고체전지” 韓 연구진, 설계 방법론 최초 제시\n",
      "news 링크 = https://n.news.naver.com/mnews/article/016/0002346046\n",
      "news 제목 = '한국인 최초 세계은행 부총재' 김상부 \"韓 정부·기업과 협력 중요\"\n",
      "news 링크 = https://n.news.naver.com/mnews/article/014/0005223880\n",
      "news 제목 = 한밤중 거리 헤매던 노인 구한 ‘천사 집배원’\n",
      "news 링크 = https://n.news.naver.com/mnews/article/366/0001010143\n",
      "news 제목 = 한밤중 거리 헤매던 90대 국가유공자, 우체국 집배원이 구했다\n",
      "news 링크 = https://n.news.naver.com/mnews/article/031/0000859645\n",
      "news 제목 = 중국산 과잉재고에 국내 배터리 업계 '이중고'\n",
      "news 링크 = https://n.news.naver.com/mnews/article/030/0003229480\n",
      "news 제목 = 중국産 재고가 몰려온다...\"저가공세 돌파구 찾아야\"\n",
      "news 링크 = https://n.news.naver.com/mnews/article/092/0002341069\n",
      "news 제목 = 김상부 세계은행 부총재 \"저소득국에도 AI 혜택 돌아가게 할 것\"\n",
      "news 링크 = https://n.news.naver.com/mnews/article/003/0012712515\n",
      "news 제목 = \"상급종합병원 중증환자 비중 60%까지 상향\"…전문인력 중심 전환 박차\n",
      "news 링크 = https://n.news.naver.com/mnews/article/421/0007713224\n",
      "news 제목 = 티메프 사태에 입 연 네이버 CFO \"제도 문제 아닌 경영 실패\"\n",
      "news 링크 = https://n.news.naver.com/mnews/article/003/0012712462\n",
      "news 제목 = '결제서비스 약진' NHN…\"티몬 채권 회수 주력\"(종합)\n",
      "news 링크 = https://n.news.naver.com/mnews/article/421/0007713205\n",
      "news 제목 = 엔씨소프트-텐센트, ‘블레이드앤소울2’ 中 2차 CBT 진행\n",
      "news 링크 = https://n.news.naver.com/mnews/article/119/0002859192\n",
      "news 제목 = \"공영방송 이사 선임 논란 확인\"…野 과방위, 방통위 현장검증\n",
      "news 링크 = https://n.news.naver.com/mnews/article/421/0007713145\n",
      "news 제목 = 삼성전자, 업계 최저 0.65㎜ 두께 LPDDR5X 개발\n",
      "news 링크 = https://n.news.naver.com/mnews/article/022/0003957543\n",
      "news 제목 = 이스라엘-헤즈볼라 전투서도 부각된 ‘드론 무기’…우리나라는?\n",
      "news 링크 = https://n.news.naver.com/mnews/article/138/0002179295\n",
      "news 제목 = [종합] NHN클라우드 \"돈 벌 일만 남았다\"…올 연말 공공·민간 사업 순항\n",
      "news 링크 = https://n.news.naver.com/mnews/article/092/0002341061\n",
      "news 제목 = 폭발·화재 없는 전고체전지 상용화 앞당길 '설계 도구' 개발\n",
      "news 링크 = https://n.news.naver.com/mnews/article/584/0000028188\n",
      "news 제목 = 개미와 벌처럼 사회적 군집 이루는 기생충도 있다 [와우! 과학]\n",
      "news 링크 = https://n.news.naver.com/mnews/article/081/0003470273\n",
      "news 제목 = “재유행 조짐 코로나19”…‘인공 폐’로 치료제 개발 속도낸다\n",
      "news 링크 = https://n.news.naver.com/mnews/article/016/0002345936\n",
      "news 제목 = \"우연히 시작한 '로봇 손' 연구…안전한 로봇과 공존 고민하게 됐죠\"\n",
      "news 링크 = https://n.news.naver.com/mnews/article/092/0002341060\n",
      "news 제목 = 방통위 방문한 과방위 野 \"KBS·방문진 이사 선임 불법 입증할 것\"\n",
      "news 링크 = https://n.news.naver.com/mnews/article/031/0000859620\n",
      "news 제목 = 과방위, 방통위 현장방문…\"공영방송 이사 선임 불법성 검증할 것\" [현장]\n",
      "news 링크 = https://n.news.naver.com/mnews/article/138/0002179291\n",
      "news 제목 = NHN, 본업 견조하지만…티몬·위메프 사태 ‘골치’\n",
      "news 링크 = https://n.news.naver.com/mnews/article/119/0002859142\n",
      "news 제목 = 데브시스터즈, '쿠키런' 업고 2Q 흑자전환\n",
      "news 링크 = https://n.news.naver.com/mnews/article/293/0000057107\n",
      "news 제목 = NHN \"티메프 사태로 102억원 대손 인식…채권 회수 노력\"\n",
      "news 링크 = https://n.news.naver.com/mnews/article/003/0012712143\n",
      "news 제목 = \"무슨 일 할까?\"…中 기밀 우주선, 14인치 망원경에 포착 [영상]\n",
      "news 링크 = https://n.news.naver.com/mnews/article/092/0002341055\n",
      "news 제목 = SKT, 로밍·데이터센터 효과 톡톡…2분기 영업익 16% 증가(종합)\n",
      "news 링크 = https://n.news.naver.com/mnews/article/003/0012712113\n",
      "news 제목 = \"AI·데이터센터·클라우드 약진\"…SK텔레콤 2Q 영업이익 16%↑\n",
      "news 링크 = https://n.news.naver.com/mnews/article/008/0005073480\n",
      "news 제목 = 세계 증시 폭락에 수십억 달러 자산 증발한 억만장자들\n",
      "news 링크 = https://n.news.naver.com/mnews/article/023/0003850810\n",
      "news 제목 = SKT, 영업익 5375억원…\"데이터센터·클라우드 성과\"(종합)\n",
      "news 링크 = https://n.news.naver.com/mnews/article/277/0005455580\n",
      "news 제목 = 전공의 대표 “경찰 출석 요구 받아”…경찰 “의협 간부 수사 관련”\n",
      "news 링크 = https://n.news.naver.com/mnews/article/366/0001010115\n",
      "news 제목 = 방통위 현장검증 과방위…김현 \"KBS·방문진 이사 선임 불법성 확인할 것\"\n",
      "news 링크 = https://n.news.naver.com/mnews/article/003/0012712072\n"
     ]
    }
   ],
   "source": [
    "# IT/과학 뉴스\n",
    "req_param = {\n",
    "    'sid': 105\n",
    "}\n",
    "url = 'https://news.naver.com/section/{sid}'.format(**req_param)\n",
    "print(url)\n",
    "# 요청 헤더 설정 : 브라우저 정보\n",
    "req_header = {\n",
    "    'user-agent': 'Mozilla/5.0 (Windows NT 10.0; Win64; x64) AppleWebKit/537.36 (KHTML, like Gecko) Chrome/104.0.0.0 Safari/537.36'\n",
    "}\n",
    "# requests 모듈을 사용해서 http 통신 \n",
    "res = requests.get(url, headers=req_header)\n",
    "print(type(res))\n",
    "print(res.status_code) #200\n",
    "print(res.ok) #True\n",
    "if res.ok:\n",
    "    # 소스보기 텍스트 가져오기\n",
    "    html = res.text\n",
    "    # parsing을 하기 위해서 BeautifulSoup 객체생성\n",
    "    soup = BeautifulSoup(html, \"html.parser\")\n",
    "    #print(type(soup))\n",
    "    '''\n",
    "        <div class='sa_text'>\n",
    "            <a href='https://n.news.naver.com/mnews/article/092/0002340904' class='sa_text_title'>\n",
    "               <strong class=\"sa_text_strong\">엔씨소프트, 2분기 영업익 88억...실적 개선 박차</strong>\n",
    "    '''\n",
    "    #print(len(soup.select(\"div.sa_text a[href*='https://n.news.naver.com/mnews/article']\")))\n",
    "    #print(len(soup.select(\"div.sa_text a.sa_text_title\")))\n",
    "    atag_list = soup.select(\"div.sa_text a.sa_text_title\")\n",
    "    #print(type(atag_list))\n",
    "    for atag in atag_list:\n",
    "        # text속성: tag사이의 content, strip()공백제거\n",
    "        title = atag.text.strip()\n",
    "        # href 속성의 값을 추출하기\n",
    "        url = atag['href']\n",
    "        print(f'news 제목 = {title}')\n",
    "        print(f'news 링크 = {url}')\n",
    "else:\n",
    "    print(f'Error 발생 {res.status_code}')"
   ]
  },
  {
   "cell_type": "code",
   "execution_count": 8,
   "id": "4461b9cc",
   "metadata": {},
   "outputs": [],
   "source": [
    "section_dict = {100:'정치',101:'경제',102:'사회',103:'생활/문화',104:'세계',105:'IT/과학'}"
   ]
  },
  {
   "cell_type": "markdown",
   "id": "45640860-a449-4285-90d7-5f300292b461",
   "metadata": {},
   "source": [
    "### 1.1 뉴스제목 추출하는 함수 선언하기"
   ]
  },
  {
   "cell_type": "code",
   "execution_count": 10,
   "id": "9f2e4ef8",
   "metadata": {},
   "outputs": [],
   "source": [
    "import requests\n",
    "from bs4 import BeautifulSoup\n",
    "\n",
    "def print_news(sid, section):    \n",
    "    # 요청 Parameter\n",
    "    req_param = {\n",
    "        'sid': sid\n",
    "    }\n",
    "    url = 'https://news.naver.com/section/{sid}'.format(**req_param)\n",
    "    \n",
    "    print(f'======> {url} {section} 뉴스 <======')\n",
    "    \n",
    "    # 요청 헤더 설정 : 브라우저 정보\n",
    "    req_header = {\n",
    "        'user-agent': 'Mozilla/5.0 (Windows NT 10.0; Win64; x64) AppleWebKit/537.36 (KHTML, like Gecko) Chrome/104.0.0.0 Safari/537.36'\n",
    "    }\n",
    "    # requests 모듈을 사용해서 http 통신 \n",
    "    res = requests.get(url, headers=req_header)\n",
    "    if res.ok:\n",
    "        # 소스보기 텍스트 가져오기\n",
    "        html = res.text\n",
    "        # parsing을 하기 위해서 BeautifulSoup 객체생성\n",
    "        soup = BeautifulSoup(html, \"html.parser\")\n",
    "        atag_list = soup.select(\"div.sa_text a.sa_text_title\")\n",
    "        for atag in atag_list:\n",
    "            # text속성: tag사이의 content, strip()공백제거\n",
    "            title = atag.text.strip()\n",
    "            # href 속성의 값을 추출하기\n",
    "            url = atag['href']\n",
    "            print(f'news 제목 = {title}')\n",
    "            print(f'news 링크 = {url}')\n",
    "    else:\n",
    "        print(f'Error 발생 {res.status_code}')    \n",
    "    "
   ]
  },
  {
   "cell_type": "code",
   "execution_count": 11,
   "id": "858952c6",
   "metadata": {},
   "outputs": [
    {
     "name": "stdout",
     "output_type": "stream",
     "text": [
      "======> https://news.naver.com/section/105 IT/과학 뉴스 <======\n",
      "news 제목 = \"파리올림픽 효과 톡톡\"...연이은 승전보에 웨이브 트래픽 폭증\n",
      "news 링크 = https://n.news.naver.com/mnews/article/092/0002341022\n",
      "news 제목 = SKT, 2Q 영업익 5375억원…전년比 16%↑\n",
      "news 링크 = https://n.news.naver.com/mnews/article/138/0002179283\n",
      "news 제목 = 7777·1234 번호 대체 어떻게 받나 했더니…\"지금이 기회\"\n",
      "news 링크 = https://n.news.naver.com/mnews/article/011/0004376495\n",
      "news 제목 = SK쉴더스, 2024 클라우드 보안 가이드북 발간\n",
      "news 링크 = https://n.news.naver.com/mnews/article/277/0005455242\n",
      "news 제목 = NHN, 2분기 영업익 36.3% 증가한 285억원...결제·클라우드 고르게 성장\n",
      "news 링크 = https://n.news.naver.com/mnews/article/009/0005346062\n",
      "news 제목 = '한국인 최초 세계은행 부총재' 김상부 \"韓 정부·기업과 협력 중요\"\n",
      "news 링크 = https://n.news.naver.com/mnews/article/014/0005223880\n",
      "news 제목 = 삼성 올림픽 체험관 찾은 신유빈·안세영…`갤Z플립6` 들고 `찰칵`\n",
      "news 링크 = https://n.news.naver.com/mnews/article/029/0002892995\n",
      "news 제목 = 스타벅스, 카카오톡과 손잡고 ‘톡학생증’ 활용 혜택 프로그램 개발\n",
      "news 링크 = https://n.news.naver.com/mnews/article/009/0005345930\n",
      "news 제목 = 셀트리온 `프롤리아` 시밀러 CT-P41 \"3상서 유효성·안전성 확인\"\n",
      "news 링크 = https://n.news.naver.com/mnews/article/029/0002893131\n",
      "news 제목 = 정부, 방송 4법 재의요구안 의결...대통령 재가시 다시 국회로\n",
      "news 링크 = https://n.news.naver.com/mnews/article/092/0002341072\n",
      "news 제목 = “상급종합병원, 중증환자 60%까지…전문인력 중심으로 전환”\n",
      "news 링크 = https://n.news.naver.com/mnews/article/366/0001010146\n",
      "news 제목 = 넷마블 신작 ‘7대죄 키우기’, 하반기 실적 견인 기대감\n",
      "news 링크 = https://n.news.naver.com/mnews/article/009/0005346067\n",
      "news 제목 = SK텔레콤, 성장 정체 속 실적 방어…'AI 수익화' 더 힘준다\n",
      "news 링크 = https://n.news.naver.com/mnews/article/629/0000310904\n",
      "news 제목 = “폭발위험 차단 전고체전지” 韓 연구진, 설계 방법론 최초 제시\n",
      "news 링크 = https://n.news.naver.com/mnews/article/016/0002346046\n",
      "news 제목 = '한국인 최초 세계은행 부총재' 김상부 \"韓 정부·기업과 협력 중요\"\n",
      "news 링크 = https://n.news.naver.com/mnews/article/014/0005223880\n",
      "news 제목 = 한밤중 거리 헤매던 노인 구한 ‘천사 집배원’\n",
      "news 링크 = https://n.news.naver.com/mnews/article/366/0001010143\n",
      "news 제목 = 한밤중 거리 헤매던 90대 국가유공자, 우체국 집배원이 구했다\n",
      "news 링크 = https://n.news.naver.com/mnews/article/031/0000859645\n",
      "news 제목 = 중국산 과잉재고에 국내 배터리 업계 '이중고'\n",
      "news 링크 = https://n.news.naver.com/mnews/article/030/0003229480\n",
      "news 제목 = 중국産 재고가 몰려온다...\"저가공세 돌파구 찾아야\"\n",
      "news 링크 = https://n.news.naver.com/mnews/article/092/0002341069\n",
      "news 제목 = 김상부 세계은행 부총재 \"저소득국에도 AI 혜택 돌아가게 할 것\"\n",
      "news 링크 = https://n.news.naver.com/mnews/article/003/0012712515\n",
      "news 제목 = \"상급종합병원 중증환자 비중 60%까지 상향\"…전문인력 중심 전환 박차\n",
      "news 링크 = https://n.news.naver.com/mnews/article/421/0007713224\n",
      "news 제목 = 티메프 사태에 입 연 네이버 CFO \"제도 문제 아닌 경영 실패\"\n",
      "news 링크 = https://n.news.naver.com/mnews/article/003/0012712462\n",
      "news 제목 = '결제서비스 약진' NHN…\"티몬 채권 회수 주력\"(종합)\n",
      "news 링크 = https://n.news.naver.com/mnews/article/421/0007713205\n",
      "news 제목 = 엔씨소프트-텐센트, ‘블레이드앤소울2’ 中 2차 CBT 진행\n",
      "news 링크 = https://n.news.naver.com/mnews/article/119/0002859192\n",
      "news 제목 = \"공영방송 이사 선임 논란 확인\"…野 과방위, 방통위 현장검증\n",
      "news 링크 = https://n.news.naver.com/mnews/article/421/0007713145\n",
      "news 제목 = 삼성전자, 업계 최저 0.65㎜ 두께 LPDDR5X 개발\n",
      "news 링크 = https://n.news.naver.com/mnews/article/022/0003957543\n",
      "news 제목 = 이스라엘-헤즈볼라 전투서도 부각된 ‘드론 무기’…우리나라는?\n",
      "news 링크 = https://n.news.naver.com/mnews/article/138/0002179295\n",
      "news 제목 = [종합] NHN클라우드 \"돈 벌 일만 남았다\"…올 연말 공공·민간 사업 순항\n",
      "news 링크 = https://n.news.naver.com/mnews/article/092/0002341061\n",
      "news 제목 = 폭발·화재 없는 전고체전지 상용화 앞당길 '설계 도구' 개발\n",
      "news 링크 = https://n.news.naver.com/mnews/article/584/0000028188\n",
      "news 제목 = 개미와 벌처럼 사회적 군집 이루는 기생충도 있다 [와우! 과학]\n",
      "news 링크 = https://n.news.naver.com/mnews/article/081/0003470273\n",
      "news 제목 = “재유행 조짐 코로나19”…‘인공 폐’로 치료제 개발 속도낸다\n",
      "news 링크 = https://n.news.naver.com/mnews/article/016/0002345936\n",
      "news 제목 = \"우연히 시작한 '로봇 손' 연구…안전한 로봇과 공존 고민하게 됐죠\"\n",
      "news 링크 = https://n.news.naver.com/mnews/article/092/0002341060\n",
      "news 제목 = 방통위 방문한 과방위 野 \"KBS·방문진 이사 선임 불법 입증할 것\"\n",
      "news 링크 = https://n.news.naver.com/mnews/article/031/0000859620\n",
      "news 제목 = 과방위, 방통위 현장방문…\"공영방송 이사 선임 불법성 검증할 것\" [현장]\n",
      "news 링크 = https://n.news.naver.com/mnews/article/138/0002179291\n",
      "news 제목 = NHN, 본업 견조하지만…티몬·위메프 사태 ‘골치’\n",
      "news 링크 = https://n.news.naver.com/mnews/article/119/0002859142\n",
      "news 제목 = 데브시스터즈, '쿠키런' 업고 2Q 흑자전환\n",
      "news 링크 = https://n.news.naver.com/mnews/article/293/0000057107\n",
      "news 제목 = NHN \"티메프 사태로 102억원 대손 인식…채권 회수 노력\"\n",
      "news 링크 = https://n.news.naver.com/mnews/article/003/0012712143\n",
      "news 제목 = \"무슨 일 할까?\"…中 기밀 우주선, 14인치 망원경에 포착 [영상]\n",
      "news 링크 = https://n.news.naver.com/mnews/article/092/0002341055\n",
      "news 제목 = SKT, 로밍·데이터센터 효과 톡톡…2분기 영업익 16% 증가(종합)\n",
      "news 링크 = https://n.news.naver.com/mnews/article/003/0012712113\n",
      "news 제목 = \"AI·데이터센터·클라우드 약진\"…SK텔레콤 2Q 영업이익 16%↑\n",
      "news 링크 = https://n.news.naver.com/mnews/article/008/0005073480\n",
      "news 제목 = 세계 증시 폭락에 수십억 달러 자산 증발한 억만장자들\n",
      "news 링크 = https://n.news.naver.com/mnews/article/023/0003850810\n",
      "news 제목 = SKT, 영업익 5375억원…\"데이터센터·클라우드 성과\"(종합)\n",
      "news 링크 = https://n.news.naver.com/mnews/article/277/0005455580\n",
      "news 제목 = 전공의 대표 “경찰 출석 요구 받아”…경찰 “의협 간부 수사 관련”\n",
      "news 링크 = https://n.news.naver.com/mnews/article/366/0001010115\n",
      "news 제목 = 방통위 현장검증 과방위…김현 \"KBS·방문진 이사 선임 불법성 확인할 것\"\n",
      "news 링크 = https://n.news.naver.com/mnews/article/003/0012712072\n"
     ]
    }
   ],
   "source": [
    "section_dict = {100:'정치',101:'경제',102:'사회',103:'생활/문화',104:'세계',105:'IT/과학'}\n",
    "print_news(105,section_dict[105])"
   ]
  },
  {
   "cell_type": "markdown",
   "id": "323196dc",
   "metadata": {},
   "source": [
    "### 2. Image 다운로드\n",
    "* referer 요청 헤더를 반드시 설정해야 한다."
   ]
  },
  {
   "cell_type": "code",
   "execution_count": 13,
   "id": "c72d6cb1",
   "metadata": {},
   "outputs": [
    {
     "name": "stdout",
     "output_type": "stream",
     "text": [
      "writing to 20220804112251_d97bd1e1b38f0cd022e4e3639d2926b3_IMAG01_1.jpg (299,319 bytes)\n",
      "writing to 20220804112251_d97bd1e1b38f0cd022e4e3639d2926b3_IMAG01_2.jpg (163,333 bytes)\n",
      "writing to 20220804112251_d97bd1e1b38f0cd022e4e3639d2926b3_IMAG01_3.jpg (182,530 bytes)\n"
     ]
    }
   ],
   "source": [
    "import requests\n",
    "import os\n",
    "\n",
    "req_header = {\n",
    "    'referer':'https://comic.naver.com/webtoon/detail?titleId=798173&no=5&amp;weekday=thu'\n",
    "}\n",
    "# jpg filename list\n",
    "img_urls = [\n",
    "    'https://image-comic.pstatic.net/webtoon/798173/5/20220804112251_d97bd1e1b38f0cd022e4e3639d2926b3_IMAG01_1.jpg',\n",
    "    'https://image-comic.pstatic.net/webtoon/798173/5/20220804112251_d97bd1e1b38f0cd022e4e3639d2926b3_IMAG01_2.jpg',\n",
    "    'https://image-comic.pstatic.net/webtoon/798173/5/20220804112251_d97bd1e1b38f0cd022e4e3639d2926b3_IMAG01_3.jpg'\n",
    "]\n",
    "for img_url in img_urls:\n",
    "    #print(img_url)\n",
    "    res = requests.get(img_url, headers=req_header)\n",
    "    #print(res.status_code)\n",
    "    if res.ok:\n",
    "        # binary 데이터 추출\n",
    "        img_data = res.content\n",
    "        # url에서 file name을 가져오기\n",
    "        file_name = os.path.basename(img_url)\n",
    "        with open(file_name,'wb') as file:\n",
    "            print(f'writing to {file_name} ({len(img_data):,} bytes)')\n",
    "            file.write(img_data)\n",
    "    else:\n",
    "        print(f'Error 발생 {res.status_code}') "
   ]
  },
  {
   "cell_type": "markdown",
   "id": "e8b00a04",
   "metadata": {},
   "source": [
    "* 현재 요청된 페이지의 image 모두 다운로드 해보기"
   ]
  },
  {
   "cell_type": "code",
   "execution_count": 15,
   "id": "b30f7bf5",
   "metadata": {},
   "outputs": [
    {
     "name": "stdout",
     "output_type": "stream",
     "text": [
      "102\n",
      "18\n",
      "1 200\n",
      "writing to img\\20240226100634_548bfa8f14799d53d45b5f12df1b289e_IMAG01_1.jpg (128,897 bytes)\n",
      "2 200\n",
      "writing to img\\20240226100634_548bfa8f14799d53d45b5f12df1b289e_IMAG01_2.jpg (143,194 bytes)\n",
      "3 200\n",
      "writing to img\\20240226100634_548bfa8f14799d53d45b5f12df1b289e_IMAG01_3.jpg (101,900 bytes)\n",
      "4 200\n",
      "writing to img\\20240226100634_548bfa8f14799d53d45b5f12df1b289e_IMAG01_4.jpg (112,007 bytes)\n",
      "5 200\n",
      "writing to img\\20240226100634_548bfa8f14799d53d45b5f12df1b289e_IMAG01_5.jpg (190,876 bytes)\n",
      "6 200\n",
      "writing to img\\20240226100634_548bfa8f14799d53d45b5f12df1b289e_IMAG01_6.jpg (134,590 bytes)\n",
      "7 200\n",
      "writing to img\\20240226100634_548bfa8f14799d53d45b5f12df1b289e_IMAG01_7.jpg (132,910 bytes)\n",
      "8 200\n",
      "writing to img\\20240226100634_548bfa8f14799d53d45b5f12df1b289e_IMAG01_8.jpg (174,434 bytes)\n",
      "9 200\n",
      "writing to img\\20240226100634_548bfa8f14799d53d45b5f12df1b289e_IMAG01_9.jpg (88,576 bytes)\n",
      "10 200\n",
      "writing to img\\20240226100634_548bfa8f14799d53d45b5f12df1b289e_IMAG01_10.jpg (177,240 bytes)\n",
      "11 200\n",
      "writing to img\\20240226100634_548bfa8f14799d53d45b5f12df1b289e_IMAG01_11.jpg (95,130 bytes)\n",
      "12 200\n",
      "writing to img\\20240226100634_548bfa8f14799d53d45b5f12df1b289e_IMAG01_12.jpg (109,718 bytes)\n",
      "13 200\n",
      "writing to img\\20240226100634_548bfa8f14799d53d45b5f12df1b289e_IMAG01_13.jpg (144,476 bytes)\n",
      "14 200\n",
      "writing to img\\20240226100634_548bfa8f14799d53d45b5f12df1b289e_IMAG01_14.jpg (127,739 bytes)\n",
      "15 200\n",
      "writing to img\\20240226100634_548bfa8f14799d53d45b5f12df1b289e_IMAG01_15.jpg (143,133 bytes)\n",
      "16 200\n",
      "writing to img\\20240226100634_548bfa8f14799d53d45b5f12df1b289e_IMAG01_16.jpg (159,328 bytes)\n",
      "17 200\n",
      "writing to img\\20240226100634_548bfa8f14799d53d45b5f12df1b289e_IMAG01_17.jpg (139,300 bytes)\n",
      "18 200\n",
      "writing to img\\20240226100634_548bfa8f14799d53d45b5f12df1b289e_IMAG01_18.jpg (54,967 bytes)\n"
     ]
    }
   ],
   "source": [
    "import requests\n",
    "import os\n",
    "\n",
    "webtoon_url = 'https://comic.naver.com/webtoon/detail?titleId=817945&no=37&week=mon'\n",
    "req_header = {\n",
    "    'referer': webtoon_url\n",
    "}\n",
    "# jpg image 파일명을 먼저 알아내기\n",
    "res = requests.get(webtoon_url)\n",
    "if res.ok: #200\n",
    "    # xx.jpg 파일명 목록 가져오기\n",
    "    soup = BeautifulSoup(res.text, 'html.parser')\n",
    "    print(len(soup.select(\"img[src$='.jpg']\"))) #108\n",
    "    print(len(soup.select(\"img[src*='IMAG01']\"))) #18\n",
    "    img_tag_list = soup.select(\"img[src*='IMAG01']\") \n",
    "\n",
    "    #image 파일명을 저장할 리스트 선언\n",
    "    img_url_list = []\n",
    "    for img_tag in img_tag_list:\n",
    "        '''\n",
    "          <img src=\"https://image-comic.pstatic.net/webtoon/817945/37/_IMAG01_1.jpg\"/>\n",
    "        '''\n",
    "        #print(img_tag)\n",
    "        #image 태그의 src속성의 값을 추출해서 list에 추가하기\n",
    "        #img_url_list ['http://x1.jpg','http://x2.jpg']\n",
    "        img_url_list.append(img_tag['src'])\n",
    "\n",
    "    image_dir_name = 'img'\n",
    "    #img 디렉토리가 없으면 img 디렉토리 생성하기\n",
    "    if not os.path.isdir(image_dir_name):\n",
    "        os.mkdir(image_dir_name)\n",
    "\n",
    "    for idx,img_url in enumerate(img_url_list,1):\n",
    "        res = requests.get(img_url, headers=req_header)\n",
    "        print(idx, res.status_code)\n",
    "        if res.ok:\n",
    "            # binary 데이터 추출\n",
    "            img_data = res.content\n",
    "            # url에서 file name을 가져오기\n",
    "            file_name = os.path.basename(img_url)\n",
    "            #img/xxxx.jpg\n",
    "            dir_name = os.path.join(image_dir_name,file_name)\n",
    "            with open(dir_name,'wb') as file:\n",
    "                print(f'writing to {dir_name} ({len(img_data):,} bytes)')\n",
    "                file.write(img_data)\n",
    "        else:\n",
    "            print(f'Error 발생 {res.status_code}')\n",
    "else:\n",
    "    print(res.status_code)"
   ]
  },
  {
   "cell_type": "markdown",
   "id": "2ac9f5f9",
   "metadata": {},
   "source": [
    "### 3. 파일 업로드 하기\n",
    "* http://httpbin.org/post 업로드 요청을 할 수 있는 url"
   ]
  },
  {
   "cell_type": "code",
   "execution_count": 22,
   "id": "04da4790",
   "metadata": {},
   "outputs": [
    {
     "name": "stdout",
     "output_type": "stream",
     "text": [
      "200\n"
     ]
    }
   ],
   "source": [
    "import requests\n",
    "\n",
    "upload_dict = {\n",
    "    'img1': open('img/f1.jpg','rb'),\n",
    "    'img2': open('img/f2.jpg','rb')\n",
    "}\n",
    "url = 'http://httpbin.org/post'\n",
    "res = requests.post(url, files=upload_dict)\n",
    "print(res.status_code)"
   ]
  },
  {
   "cell_type": "markdown",
   "id": "7ad65f12",
   "metadata": {},
   "source": [
    "### 4. 단축 URL 생성하는 Open API 사용하기\n",
    "* urllib 사용"
   ]
  },
  {
   "cell_type": "code",
   "execution_count": null,
   "id": "abbb0ebf",
   "metadata": {},
   "outputs": [],
   "source": [
    "import os\n",
    "import sys\n",
    "import urllib.request\n",
    "\n",
    "client_id = \"V\" # 개발자센터에서 발급받은 Client ID 값\n",
    "client_secret = \"y_\" # 개발자센터에서 발급받은 Client Secret 값\n",
    "encText = urllib.parse.quote(\"https://drive.google.com/drive/u/0/folders/1V_DK7Px5w_niEKLlWhDr_GPgIYHG3Du-\")\n",
    "data = \"url=\" + encText\n",
    "url = \"https://openapi.naver.com/v1/util/shorturl\"\n",
    "\n",
    "request = urllib.request.Request(url)\n",
    "request.add_header(\"X-Naver-Client-Id\",client_id)\n",
    "request.add_header(\"X-Naver-Client-Secret\",client_secret)\n",
    "\n",
    "response = urllib.request.urlopen(request, data=data.encode(\"utf-8\"))\n",
    "rescode = response.getcode()\n",
    "if(rescode==200):\n",
    "    response_body = response.read()\n",
    "    print(response_body.decode('utf-8'))\n",
    "else:\n",
    "    print(\"Error Code:\" + rescode)\n"
   ]
  },
  {
   "cell_type": "markdown",
   "id": "b7d984a6",
   "metadata": {},
   "source": [
    "* requests를 사용하는 코드로 변경하기\n",
    "* [requests docs](https://requests.readthedocs.io/en/latest/user/quickstart/)"
   ]
  },
  {
   "cell_type": "code",
   "execution_count": null,
   "id": "727b427b",
   "metadata": {
    "scrolled": true
   },
   "outputs": [],
   "source": [
    "import requests\n",
    "\n",
    "client_id = \"V\" # 개발자센터에서 발급받은 Client ID 값\n",
    "client_secret = \"y_\" # 개발자센터에서 발급받은 Client Secret 값\n",
    "\n",
    "origin_url = \"https://drive.google.com/drive/u/0/folders/1V_DK7Px5w_niEKLlWhDr_GPgIYHG3Du-\"\n",
    "\n"
   ]
  },
  {
   "cell_type": "markdown",
   "id": "d5e1179a",
   "metadata": {},
   "source": [
    "### 5. 블로그 검색하기"
   ]
  },
  {
   "cell_type": "code",
   "execution_count": null,
   "id": "877d0c7f",
   "metadata": {},
   "outputs": [],
   "source": [
    "import requests\n",
    "import pprint\n",
    "\n",
    "headers = {\n",
    "    'X-Naver-Client-Id': 'V',\n",
    "    'X-Naver-Client-Secret': 'y_',\n",
    "}\n",
    "\n",
    "payload = {\n",
    "    'query': '파이썬',\n",
    "    'display': 100,\n",
    "    'sort': 'sim'\n",
    "}\n",
    "\n",
    "url = 'https://openapi.naver.com/v1/search/blog.json'\n",
    "\n",
    "res = requests.get(url, params=payload, headers=headers)\n",
    "items_data = res.json()['items']\n",
    "#print(items_data)\n",
    "\n",
    "items_list = list()\n",
    "item_list = []\n",
    "for item in items_data:\n",
    "#     print(item)\n",
    "    item_list.append(item['title'])\n",
    "    item_list.append(item['bloggername'])\n",
    "    item_list.append(item['description'])\n",
    "    item_list.append(item['bloggerlink'])\n",
    "    item_list.append(item['link'])\n",
    "\n",
    "    items_list.append(item_list)\n",
    "    item_list = []\n",
    "\n",
    "print(items_list)\n",
    "\n",
    "with open('data/nhnblog.txt','w',encoding=\"utf-8\")as file:\n",
    "    for items in items_list:\n",
    "        for item in items:\n",
    "            item = item + '\\n'\n",
    "            file.write(item)\n",
    "        file.write('-'*150+'\\n')"
   ]
  }
 ],
 "metadata": {
  "kernelspec": {
   "display_name": "Python 3 (ipykernel)",
   "language": "python",
   "name": "python3"
  },
  "language_info": {
   "codemirror_mode": {
    "name": "ipython",
    "version": 3
   },
   "file_extension": ".py",
   "mimetype": "text/x-python",
   "name": "python",
   "nbconvert_exporter": "python",
   "pygments_lexer": "ipython3",
   "version": "3.12.4"
  }
 },
 "nbformat": 4,
 "nbformat_minor": 5
}
